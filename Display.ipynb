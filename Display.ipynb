{
 "metadata": {
  "kernelspec": {
   "codemirror_mode": {
    "mode": "clike",
    "name": "text/x-scala"
   },
   "display_name": "IScala (Scala 2.11)",
   "language": "scala",
   "name": "iscala-2.11"
  },
  "name": "",
  "signature": "sha256:90124ca1a180005824f1532c5bdc6d2d861b9ef39cadd597a9480a7676e17f13"
 },
 "nbformat": 3,
 "nbformat_minor": 0,
 "worksheets": [
  {
   "cells": [
    {
     "cell_type": "code",
     "collapsed": false,
     "input": [
      "%libraryDependencies += \"com.scalatags\" %% \"scalatags\" % \"0.4.2\""
     ],
     "language": "python",
     "metadata": {},
     "outputs": [
      {
       "output_type": "stream",
       "stream": "stdout",
       "text": []
      },
      {
       "output_type": "stream",
       "stream": "stdout",
       "text": []
      }
     ],
     "prompt_number": 1
    },
    {
     "cell_type": "code",
     "collapsed": false,
     "input": [
      "%libraryDependencies += \"io.continuum.bokeh\" %% \"bokeh\" % \"0.2\""
     ],
     "language": "python",
     "metadata": {},
     "outputs": [
      {
       "output_type": "stream",
       "stream": "stdout",
       "text": []
      },
      {
       "output_type": "stream",
       "stream": "stdout",
       "text": []
      }
     ],
     "prompt_number": 2
    },
    {
     "cell_type": "code",
     "collapsed": false,
     "input": [
      "%libraryDependencies += \"org.jfree\" % \"jfreechart\" % \"1.0.19\""
     ],
     "language": "python",
     "metadata": {},
     "outputs": [
      {
       "output_type": "stream",
       "stream": "stdout",
       "text": []
      },
      {
       "output_type": "stream",
       "stream": "stdout",
       "text": []
      }
     ],
     "prompt_number": 3
    },
    {
     "cell_type": "code",
     "collapsed": false,
     "input": [
      "%libraryDependencies +=  \"com.github.fommil.netlib\" % \"all\" % \"1.1.2\""
     ],
     "language": "python",
     "metadata": {},
     "outputs": [
      {
       "output_type": "stream",
       "stream": "stdout",
       "text": []
      },
      {
       "output_type": "stream",
       "stream": "stdout",
       "text": []
      }
     ],
     "prompt_number": 4
    },
    {
     "cell_type": "code",
     "collapsed": false,
     "input": [
      "%resolvers += \"Maven Central\" at \"https://repo1.maven.org/maven2/\""
     ],
     "language": "python",
     "metadata": {},
     "outputs": [
      {
       "output_type": "stream",
       "stream": "stdout",
       "text": []
      },
      {
       "output_type": "stream",
       "stream": "stdout",
       "text": []
      }
     ],
     "prompt_number": 5
    },
    {
     "cell_type": "code",
     "collapsed": false,
     "input": [
      "%update"
     ],
     "language": "python",
     "metadata": {},
     "outputs": [
      {
       "output_type": "stream",
       "stream": "stdout",
       "text": [
        "\u001b[0m[\u001b[0minfo\u001b[0m] \u001b[0mResolving com.scalatags#scalatags_2.11;0.4.2 ...\u001b[0m\n"
       ]
      },
      {
       "output_type": "stream",
       "stream": "stdout",
       "text": [
        "\u001b[0m[\u001b[0minfo\u001b[0m] \u001b[0mResolving org.scala-lang#scala-library;2.11.2 ...\u001b[0m\n",
        "\u001b[0m[\u001b[0minfo\u001b[0m] \u001b[0mResolving io.continuum.bokeh#bokeh_2.11;0.2 ...\u001b[0m\n"
       ]
      },
      {
       "output_type": "stream",
       "stream": "stdout",
       "text": [
        "\u001b[0m[\u001b[0minfo\u001b[0m] \u001b[0mResolving io.continuum.bokeh#core_2.11;0.2 ...\u001b[0m\n"
       ]
      },
      {
       "output_type": "stream",
       "stream": "stdout",
       "text": [
        "\u001b[0m[\u001b[0minfo\u001b[0m] \u001b[0mResolving org.scala-lang#scala-reflect;2.11.2 ...\u001b[0m\n",
        "\u001b[0m[\u001b[0minfo\u001b[0m] \u001b[0mResolving com.typesafe.play#play-json_2.11;2.4.0-M1 ...\u001b[0m\n",
        "\u001b[0m[\u001b[0minfo\u001b[0m] \u001b[0mResolving com.typesafe.play#play-iteratees_2.11;2.4.0-M1 ...\u001b[0m\n",
        "\u001b[0m[\u001b[0minfo\u001b[0m] \u001b[0mResolving org.scala-stm#scala-stm_2.11;0.7 ...\u001b[0m\n",
        "\u001b[0m[\u001b[0minfo\u001b[0m] \u001b[0mResolving com.typesafe#config;1.2.1 ...\u001b[0m\n",
        "\u001b[0m[\u001b[0minfo\u001b[0m] \u001b[0mResolving com.typesafe.play#play-functional_2.11;2.4.0-M1 ...\u001b[0m\n",
        "\u001b[0m[\u001b[0minfo\u001b[0m] \u001b[0mResolving com.typesafe.play#play-datacommons_2.11;2.4.0-M1 ...\u001b[0m\n"
       ]
      },
      {
       "output_type": "stream",
       "stream": "stdout",
       "text": [
        "\u001b[0m[\u001b[0minfo\u001b[0m] \u001b[0mResolving joda-time#joda-time;2.3 ...\u001b[0m\n"
       ]
      },
      {
       "output_type": "stream",
       "stream": "stdout",
       "text": [
        "\u001b[0m[\u001b[0minfo\u001b[0m] \u001b[0mResolving org.joda#joda-convert;1.6 ...\u001b[0m\n",
        "\u001b[0m[\u001b[0minfo\u001b[0m] \u001b[0mResolving com.fasterxml.jackson.core#jackson-core;2.3.2 ...\u001b[0m\n"
       ]
      },
      {
       "output_type": "stream",
       "stream": "stdout",
       "text": [
        "\u001b[0m[\u001b[0minfo\u001b[0m] \u001b[0mResolving com.fasterxml.jackson.core#jackson-annotations;2.3.2 ...\u001b[0m\n",
        "\u001b[0m[\u001b[0minfo\u001b[0m] \u001b[0mResolving com.fasterxml.jackson.core#jackson-databind;2.3.2 ...\u001b[0m\n"
       ]
      },
      {
       "output_type": "stream",
       "stream": "stdout",
       "text": [
        "\u001b[0m[\u001b[0minfo\u001b[0m] \u001b[0mResolving io.continuum.bokeh#bokehjs_2.11;0.2 ...\u001b[0m\n"
       ]
      },
      {
       "output_type": "stream",
       "stream": "stdout",
       "text": [
        "\u001b[0m[\u001b[0minfo\u001b[0m] \u001b[0mResolving com.github.scala-incubator.io#scala-io-core_2.11;0.4.3 ...\u001b[0m\n",
        "\u001b[0m[\u001b[0minfo\u001b[0m] \u001b[0mResolving org.scala-lang.modules#scala-parser-combinators_2.11;1.0.1 ...\u001b[0m\n",
        "\u001b[0m[\u001b[0minfo\u001b[0m] \u001b[0mResolving com.madgag#scala-arm_2.11;1.3.3 ...\u001b[0m\n",
        "\u001b[0m[\u001b[0minfo\u001b[0m] \u001b[0mResolving org.scala-lang.plugins#scala-continuations-library_2.11;1.0.1 ...\u001b[0m\n",
        "\u001b[0m[\u001b[0minfo\u001b[0m] \u001b[0mResolving com.github.scala-incubator.io#scala-io-file_2.11;0.4.3 ...\u001b[0m\n",
        "\u001b[0m[\u001b[0minfo\u001b[0m] \u001b[0mResolving org.scala-lang.modules#scala-xml_2.11;1.0.2 ...\u001b[0m\n",
        "\u001b[0m[\u001b[0minfo\u001b[0m] \u001b[0mResolving org.scalanlp#breeze_2.11;0.8.1 ...\u001b[0m\n"
       ]
      },
      {
       "output_type": "stream",
       "stream": "stdout",
       "text": [
        "\u001b[0m[\u001b[0minfo\u001b[0m] \u001b[0mResolving org.scalanlp#breeze-macros_2.11;0.3.1 ...\u001b[0m\n"
       ]
      },
      {
       "output_type": "stream",
       "stream": "stdout",
       "text": [
        "\u001b[0m[\u001b[0minfo\u001b[0m] \u001b[0mResolving com.github.fommil.netlib#core;1.1.2 ...\u001b[0m\n",
        "\u001b[0m[\u001b[0minfo\u001b[0m] \u001b[0mResolving net.sourceforge.f2j#arpack_combined_all;0.1 ...\u001b[0m\n",
        "\u001b[0m[\u001b[0minfo\u001b[0m] \u001b[0mResolving net.sf.opencsv#opencsv;2.3 ...\u001b[0m\n",
        "\u001b[0m[\u001b[0minfo\u001b[0m] \u001b[0mResolving com.github.rwl#jtransforms;2.4.0 ...\u001b[0m\n",
        "\u001b[0m[\u001b[0minfo\u001b[0m] \u001b[0mResolving junit#junit;4.8.2 ...\u001b[0m\n",
        "\u001b[0m[\u001b[0minfo\u001b[0m] \u001b[0mResolving org.apache.commons#commons-math3;3.2 ...\u001b[0m\n",
        "\u001b[0m[\u001b[0minfo\u001b[0m] \u001b[0mResolving org.spire-math#spire_2.11;0.7.4 ...\u001b[0m\n",
        "\u001b[0m[\u001b[0minfo\u001b[0m] \u001b[0mResolving org.spire-math#spire-macros_2.11;0.7.4 ...\u001b[0m\n"
       ]
      },
      {
       "output_type": "stream",
       "stream": "stdout",
       "text": [
        "\u001b[0m[\u001b[0minfo\u001b[0m] \u001b[0mResolving com.typesafe.scala-logging#scala-logging-slf4j_2.11;2.1.2 ...\u001b[0m\n",
        "\u001b[0m[\u001b[0minfo\u001b[0m] \u001b[0mResolving com.typesafe.scala-logging#scala-logging-api_2.11;2.1.2 ...\u001b[0m\n"
       ]
      },
      {
       "output_type": "stream",
       "stream": "stdout",
       "text": [
        "\u001b[0m[\u001b[0minfo\u001b[0m] \u001b[0mResolving org.slf4j#slf4j-api;1.7.7 ...\u001b[0m\n",
        "\u001b[0m[\u001b[0minfo\u001b[0m] \u001b[0mResolving org.jfree#jfreechart;1.0.19 ...\u001b[0m\n",
        "\u001b[0m[\u001b[0minfo\u001b[0m] \u001b[0mResolving org.jfree#jcommon;1.0.23 ...\u001b[0m\n",
        "\u001b[0m[\u001b[0minfo\u001b[0m] \u001b[0mResolving com.github.fommil.netlib#all;1.1.2 ...\u001b[0m\n",
        "\u001b[0m[\u001b[0minfo\u001b[0m] \u001b[0mResolving com.github.fommil.netlib#netlib-native_ref-osx-x86_64;1.1 ...\u001b[0m\n",
        "\u001b[0m[\u001b[0minfo\u001b[0m] \u001b[0mResolving com.github.fommil.netlib#native_ref-java;1.1 ...\u001b[0m\n",
        "\u001b[0m[\u001b[0minfo\u001b[0m] \u001b[0mResolving com.github.fommil#jniloader;1.1 ...\u001b[0m\n",
        "\u001b[0m[\u001b[0minfo\u001b[0m] \u001b[0mResolving com.github.fommil.netlib#netlib-native_ref-linux-x86_64;1.1 ...\u001b[0m\n",
        "\u001b[0m[\u001b[0minfo\u001b[0m] \u001b[0mResolving com.github.fommil.netlib#netlib-native_ref-linux-i686;1.1 ...\u001b[0m\n",
        "\u001b[0m[\u001b[0minfo\u001b[0m] \u001b[0mResolving com.github.fommil.netlib#netlib-native_ref-win-x86_64;1.1 ...\u001b[0m\n",
        "\u001b[0m[\u001b[0minfo\u001b[0m] \u001b[0mResolving com.github.fommil.netlib#netlib-native_ref-win-i686;1.1 ...\u001b[0m\n",
        "\u001b[0m[\u001b[0minfo\u001b[0m] \u001b[0mResolving com.github.fommil.netlib#netlib-native_ref-linux-armhf;1.1 ...\u001b[0m\n",
        "\u001b[0m[\u001b[0minfo\u001b[0m] \u001b[0mResolving com.github.fommil.netlib#netlib-native_system-osx-x86_64;1.1 ...\u001b[0m\n",
        "\u001b[0m[\u001b[0minfo\u001b[0m] \u001b[0mResolving com.github.fommil.netlib#native_system-java;1.1 ...\u001b[0m\n",
        "\u001b[0m[\u001b[0minfo\u001b[0m] \u001b[0mResolving com.github.fommil.netlib#netlib-native_system-linux-x86_64;1.1 ...\u001b[0m\n",
        "\u001b[0m[\u001b[0minfo\u001b[0m] \u001b[0mResolving com.github.fommil.netlib#netlib-native_system-linux-i686;1.1 ...\u001b[0m\n",
        "\u001b[0m[\u001b[0minfo\u001b[0m] \u001b[0mResolving com.github.fommil.netlib#netlib-native_system-linux-armhf;1.1 ...\u001b[0m\n",
        "\u001b[0m[\u001b[0minfo\u001b[0m] \u001b[0mResolving com.github.fommil.netlib#netlib-native_system-win-x86_64;1.1 ...\u001b[0m\n",
        "\u001b[0m[\u001b[0minfo\u001b[0m] \u001b[0mResolving com.github.fommil.netlib#netlib-native_system-win-i686;1.1 ...\u001b[0m\n",
        "\u001b[0m[\u001b[0minfo\u001b[0m] \u001b[0mdownloading https://repo1.maven.org/maven2/com/scalatags/scalatags_2.11/0.4.2/scalatags_2.11-0.4.2.jar ...\u001b[0m\n"
       ]
      },
      {
       "output_type": "stream",
       "stream": "stdout",
       "text": [
        "\u001b[0m[\u001b[0minfo\u001b[0m] \u001b[0m\t[SUCCESSFUL ] com.scalatags#scalatags_2.11;0.4.2!scalatags_2.11.jar (402ms)\u001b[0m\n",
        "\u001b[0m[\u001b[0minfo\u001b[0m] \u001b[0mdownloading https://repo1.maven.org/maven2/io/continuum/bokeh/bokeh_2.11/0.2/bokeh_2.11-0.2.jar ...\u001b[0m\n"
       ]
      },
      {
       "output_type": "stream",
       "stream": "stdout",
       "text": [
        "\u001b[0m[\u001b[0minfo\u001b[0m] \u001b[0m\t[SUCCESSFUL ] io.continuum.bokeh#bokeh_2.11;0.2!bokeh_2.11.jar (2006ms)\u001b[0m\n",
        "\u001b[0m[\u001b[0minfo\u001b[0m] \u001b[0mdownloading https://repo1.maven.org/maven2/io/continuum/bokeh/core_2.11/0.2/core_2.11-0.2.jar ...\u001b[0m\n",
        "\u001b[0m[\u001b[0minfo\u001b[0m] \u001b[0m\t[SUCCESSFUL ] io.continuum.bokeh#core_2.11;0.2!core_2.11.jar (505ms)\u001b[0m\n",
        "\u001b[0m[\u001b[0minfo\u001b[0m] \u001b[0mdownloading https://repo1.maven.org/maven2/io/continuum/bokeh/bokehjs_2.11/0.2/bokehjs_2.11-0.2.jar ...\u001b[0m\n"
       ]
      },
      {
       "output_type": "stream",
       "stream": "stdout",
       "text": [
        "\u001b[0m[\u001b[0minfo\u001b[0m] \u001b[0m\t[SUCCESSFUL ] io.continuum.bokeh#bokehjs_2.11;0.2!bokehjs_2.11.jar (1380ms)\u001b[0m\n",
        "\u001b[0m[\u001b[0minfo\u001b[0m] \u001b[0mdownloading https://repo1.maven.org/maven2/org/scalanlp/breeze_2.11/0.8.1/breeze_2.11-0.8.1.jar ...\u001b[0m\n"
       ]
      },
      {
       "output_type": "stream",
       "stream": "stdout",
       "text": [
        "\u001b[0m[\u001b[0minfo\u001b[0m] \u001b[0m\t[SUCCESSFUL ] org.scalanlp#breeze_2.11;0.8.1!breeze_2.11.jar (1475ms)\u001b[0m\n",
        "\u001b[0m[\u001b[0minfo\u001b[0m] \u001b[0mdownloading https://repo1.maven.org/maven2/org/scalanlp/breeze-macros_2.11/0.3.1/breeze-macros_2.11-0.3.1.jar ...\u001b[0m\n",
        "\u001b[0m[\u001b[0minfo\u001b[0m] \u001b[0m\t[SUCCESSFUL ] org.scalanlp#breeze-macros_2.11;0.3.1!breeze-macros_2.11.jar (313ms)\u001b[0m\n",
        "\u001b[0m[\u001b[0minfo\u001b[0m] \u001b[0mdownloading https://repo1.maven.org/maven2/org/spire-math/spire_2.11/0.7.4/spire_2.11-0.7.4.jar ...\u001b[0m\n"
       ]
      },
      {
       "output_type": "stream",
       "stream": "stdout",
       "text": [
        "\u001b[0m[\u001b[0minfo\u001b[0m] \u001b[0m\t[SUCCESSFUL ] org.spire-math#spire_2.11;0.7.4!spire_2.11.jar (1018ms)\u001b[0m\n",
        "\u001b[0m[\u001b[0minfo\u001b[0m] \u001b[0mdownloading https://repo1.maven.org/maven2/com/typesafe/scala-logging/scala-logging-slf4j_2.11/2.1.2/scala-logging-slf4j_2.11-2.1.2.jar ...\u001b[0m\n"
       ]
      },
      {
       "output_type": "stream",
       "stream": "stdout",
       "text": [
        "\u001b[0m[\u001b[0minfo\u001b[0m] \u001b[0m\t[SUCCESSFUL ] com.typesafe.scala-logging#scala-logging-slf4j_2.11;2.1.2!scala-logging-slf4j_2.11.jar (299ms)\u001b[0m\n",
        "\u001b[0m[\u001b[0minfo\u001b[0m] \u001b[0mdownloading https://repo1.maven.org/maven2/org/spire-math/spire-macros_2.11/0.7.4/spire-macros_2.11-0.7.4.jar ...\u001b[0m\n"
       ]
      },
      {
       "output_type": "stream",
       "stream": "stdout",
       "text": [
        "\u001b[0m[\u001b[0minfo\u001b[0m] \u001b[0m\t[SUCCESSFUL ] org.spire-math#spire-macros_2.11;0.7.4!spire-macros_2.11.jar (318ms)\u001b[0m\n",
        "\u001b[0m[\u001b[0minfo\u001b[0m] \u001b[0mdownloading https://repo1.maven.org/maven2/com/typesafe/scala-logging/scala-logging-api_2.11/2.1.2/scala-logging-api_2.11-2.1.2.jar ...\u001b[0m\n",
        "\u001b[0m[\u001b[0minfo\u001b[0m] \u001b[0m\t[SUCCESSFUL ] com.typesafe.scala-logging#scala-logging-api_2.11;2.1.2!scala-logging-api_2.11.jar (301ms)\u001b[0m\n"
       ]
      },
      {
       "output_type": "stream",
       "stream": "stdout",
       "text": []
      }
     ],
     "prompt_number": 6
    },
    {
     "cell_type": "code",
     "collapsed": false,
     "input": [
      "<div style=\"color: red\">XXX</div>"
     ],
     "language": "python",
     "metadata": {},
     "outputs": [
      {
       "output_type": "stream",
       "stream": "stdout",
       "text": []
      },
      {
       "output_type": "stream",
       "stream": "stdout",
       "text": []
      },
      {
       "html": [
        "<div style=\"color: red\">XXX</div>"
       ],
       "metadata": {},
       "output_type": "pyout",
       "prompt_number": 7,
       "text": [
        "<div style=\"color: red\">XXX</div>"
       ]
      }
     ],
     "prompt_number": 7
    },
    {
     "cell_type": "code",
     "collapsed": false,
     "input": [
      "import scalatags.Text.all._"
     ],
     "language": "python",
     "metadata": {},
     "outputs": [
      {
       "output_type": "stream",
       "stream": "stdout",
       "text": []
      },
      {
       "output_type": "stream",
       "stream": "stdout",
       "text": []
      }
     ],
     "prompt_number": 8
    },
    {
     "cell_type": "code",
     "collapsed": false,
     "input": [
      "div(style:=\"color: red\", \"XXX\")"
     ],
     "language": "python",
     "metadata": {},
     "outputs": [
      {
       "output_type": "stream",
       "stream": "stdout",
       "text": []
      },
      {
       "output_type": "stream",
       "stream": "stdout",
       "text": []
      },
      {
       "metadata": {},
       "output_type": "pyout",
       "prompt_number": 9,
       "text": [
        "<div style=\"color: red\">XXX</div>"
       ]
      }
     ],
     "prompt_number": 9
    },
    {
     "cell_type": "code",
     "collapsed": false,
     "input": [
      "implicit val HTMLTypedTag = org.refptr.iscala.display.HTMLDisplay[scalatags.Text.TypedTag[String]](_.toString)"
     ],
     "language": "python",
     "metadata": {},
     "outputs": [
      {
       "output_type": "stream",
       "stream": "stdout",
       "text": []
      },
      {
       "output_type": "stream",
       "stream": "stdout",
       "text": []
      },
      {
       "metadata": {},
       "output_type": "pyout",
       "prompt_number": 10,
       "text": [
        "org.refptr.iscala.display.HTMLDisplay$$anon$2@68e07ab1"
       ]
      }
     ],
     "prompt_number": 10
    },
    {
     "cell_type": "code",
     "collapsed": false,
     "input": [
      "div(style:=\"color: red\", \"XXX\")"
     ],
     "language": "python",
     "metadata": {},
     "outputs": [
      {
       "output_type": "stream",
       "stream": "stdout",
       "text": []
      },
      {
       "output_type": "stream",
       "stream": "stdout",
       "text": []
      },
      {
       "html": [
        "<div style=\"color: red\">XXX</div>"
       ],
       "metadata": {},
       "output_type": "pyout",
       "prompt_number": 11,
       "text": [
        "<div style=\"color: red\">XXX</div>"
       ]
      }
     ],
     "prompt_number": 11
    },
    {
     "cell_type": "code",
     "collapsed": false,
     "input": [
      "<table>\n",
      "  <tr>\n",
      "    <th>Header 1</th>\n",
      "    <th>Header 2</th>\n",
      "  </tr>\n",
      "  <tr>\n",
      "    <td>row 1, cell 1</td>\n",
      "    <td>row 1, cell 2</td>\n",
      "  </tr>\n",
      "  <tr>\n",
      "    <td>row 2, cell 1</td>\n",
      "    <td>row 2, cell 2</td>\n",
      "  </tr>\n",
      "</table>"
     ],
     "language": "python",
     "metadata": {},
     "outputs": [
      {
       "output_type": "stream",
       "stream": "stdout",
       "text": []
      },
      {
       "output_type": "stream",
       "stream": "stdout",
       "text": []
      },
      {
       "html": [
        "<table>\n",
        "  <tr>\n",
        "    <th>Header 1</th>\n",
        "    <th>Header 2</th>\n",
        "  </tr>\n",
        "  <tr>\n",
        "    <td>row 1, cell 1</td>\n",
        "    <td>row 1, cell 2</td>\n",
        "  </tr>\n",
        "  <tr>\n",
        "    <td>row 2, cell 1</td>\n",
        "    <td>row 2, cell 2</td>\n",
        "  </tr>\n",
        "</table>"
       ],
       "metadata": {},
       "output_type": "pyout",
       "prompt_number": 12,
       "text": [
        "<table>\n",
        "  <tr>\n",
        "    <th>Header 1</th>\n",
        "    <th>Header 2</th>\n",
        "  </tr>\n",
        "  <tr>\n",
        "    <td>row 1, cell 1</td>\n",
        "    <td>row 1, cell 2</td>\n",
        "  </tr>\n",
        "  <tr>\n",
        "    <td>row 2, cell 1</td>\n",
        "    <td>row 2, cell 2</td>\n",
        "  </tr>\n",
        "</table>"
       ]
      }
     ],
     "prompt_number": 12
    },
    {
     "cell_type": "code",
     "collapsed": false,
     "input": [
      "org.refptr.iscala.display.Math(\"\"\"F(k) = \\int_{-\\infty}^{\\infty} f(x) e^{2\\pi i k} dx\"\"\")"
     ],
     "language": "python",
     "metadata": {},
     "outputs": [
      {
       "output_type": "stream",
       "stream": "stdout",
       "text": []
      },
      {
       "output_type": "stream",
       "stream": "stdout",
       "text": []
      },
      {
       "latex": [
        "$$F(k) = \\int_{-\\infty}^{\\infty} f(x) e^{2\\pi i k} dx$$"
       ],
       "metadata": {},
       "output_type": "pyout",
       "prompt_number": 13,
       "text": [
        "Math(F(k) = \\int_{-\\infty}^{\\infty} f(x) e^{2\\pi i k} dx)"
       ]
      }
     ],
     "prompt_number": 13
    },
    {
     "cell_type": "code",
     "collapsed": false,
     "input": [
      "org.refptr.iscala.display.Latex(\"\"\"\n",
      "\\begin{eqnarray}\n",
      "\\nabla \\times \\vec{\\mathbf{B}} -\\, \\frac1c\\, \\frac{\\partial\\vec{\\mathbf{E}}}{\\partial t} & = \\frac{4\\pi}{c}\\vec{\\mathbf{j}} \\\\\n",
      "\\nabla \\cdot \\vec{\\mathbf{E}} & = 4 \\pi \\rho \\\\\n",
      "\\nabla \\times \\vec{\\mathbf{E}}\\, +\\, \\frac1c\\, \\frac{\\partial\\vec{\\mathbf{B}}}{\\partial t} & = \\vec{\\mathbf{0}} \\\\\n",
      "\\nabla \\cdot \\vec{\\mathbf{B}} & = 0 \n",
      "\\end{eqnarray}\n",
      "\"\"\")"
     ],
     "language": "python",
     "metadata": {},
     "outputs": [
      {
       "output_type": "stream",
       "stream": "stdout",
       "text": []
      },
      {
       "output_type": "stream",
       "stream": "stdout",
       "text": []
      },
      {
       "latex": [
        "\n",
        "\\begin{eqnarray}\n",
        "\\nabla \\times \\vec{\\mathbf{B}} -\\, \\frac1c\\, \\frac{\\partial\\vec{\\mathbf{E}}}{\\partial t} & = \\frac{4\\pi}{c}\\vec{\\mathbf{j}} \\\\\n",
        "\\nabla \\cdot \\vec{\\mathbf{E}} & = 4 \\pi \\rho \\\\\n",
        "\\nabla \\times \\vec{\\mathbf{E}}\\, +\\, \\frac1c\\, \\frac{\\partial\\vec{\\mathbf{B}}}{\\partial t} & = \\vec{\\mathbf{0}} \\\\\n",
        "\\nabla \\cdot \\vec{\\mathbf{B}} & = 0 \n",
        "\\end{eqnarray}\n"
       ],
       "metadata": {},
       "output_type": "pyout",
       "prompt_number": 14,
       "text": [
        "Latex(\n",
        "\\begin{eqnarray}\n",
        "\\nabla \\times \\vec{\\mathbf{B}} -\\, \\frac1c\\, \\frac{\\partial\\vec{\\mathbf{E}}}{\\partial t} & = \\frac{4\\pi}{c}\\vec{\\mathbf{j}} \\\\\n",
        "\\nabla \\cdot \\vec{\\mathbf{E}} & = 4 \\pi \\rho \\\\\n",
        "\\nabla \\times \\vec{\\mathbf{E}}\\, +\\, \\frac1c\\, \\frac{\\partial\\vec{\\mathbf{B}}}{\\partial t} & = \\vec{\\mathbf{0}} \\\\\n",
        "\\nabla \\cdot \\vec{\\mathbf{B}} & = 0 \n",
        "\\end{eqnarray}\n",
        ")"
       ]
      }
     ],
     "prompt_number": 14
    },
    {
     "cell_type": "code",
     "collapsed": false,
     "input": [
      "org.refptr.iscala.display.ImageURL(\"http://scala-lang.org/resources/img/smooth-spiral.png\", 100, 200)"
     ],
     "language": "python",
     "metadata": {},
     "outputs": [
      {
       "output_type": "stream",
       "stream": "stdout",
       "text": []
      },
      {
       "output_type": "stream",
       "stream": "stdout",
       "text": []
      },
      {
       "html": [
        "<img src=\"http://scala-lang.org/resources/img/smooth-spiral.png\" width=\"100\" height=\"200\"></img>"
       ],
       "metadata": {},
       "output_type": "pyout",
       "prompt_number": 15,
       "text": [
        "ImageURL(http://scala-lang.org/resources/img/smooth-spiral.png,Some(100),Some(200))"
       ]
      }
     ],
     "prompt_number": 15
    },
    {
     "cell_type": "code",
     "collapsed": false,
     "input": [
      "org.refptr.iscala.display.YouTubeVideo(\"1j_HxD4iLn8\")"
     ],
     "language": "python",
     "metadata": {},
     "outputs": [
      {
       "output_type": "stream",
       "stream": "stdout",
       "text": []
      },
      {
       "output_type": "stream",
       "stream": "stdout",
       "text": []
      },
      {
       "html": [
        "<iframe width=\"400\" height=\"300\" src=\"https://www.youtube.com/embed/1j_HxD4iLn8\" frameborder=\"0\" allowfullscreen=\"allowfullscreen\"></iframe>"
       ],
       "metadata": {},
       "output_type": "pyout",
       "prompt_number": 16,
       "text": [
        "YouTubeVideo(1j_HxD4iLn8,400,300)"
       ]
      }
     ],
     "prompt_number": 16
    },
    {
     "cell_type": "code",
     "collapsed": false,
     "input": [
      "Nil"
     ],
     "language": "python",
     "metadata": {},
     "outputs": [
      {
       "output_type": "stream",
       "stream": "stdout",
       "text": []
      },
      {
       "output_type": "stream",
       "stream": "stdout",
       "text": []
      },
      {
       "metadata": {},
       "output_type": "pyout",
       "prompt_number": 17,
       "text": [
        "List()"
       ]
      }
     ],
     "prompt_number": 17
    },
    {
     "cell_type": "code",
     "collapsed": false,
     "input": [
      "implicit val PlainNil = org.refptr.iscala.display.PlainDisplay[Nil.type](_ => \"Nil\")"
     ],
     "language": "python",
     "metadata": {},
     "outputs": [
      {
       "output_type": "stream",
       "stream": "stdout",
       "text": []
      },
      {
       "output_type": "stream",
       "stream": "stdout",
       "text": []
      },
      {
       "metadata": {},
       "output_type": "pyout",
       "prompt_number": 18,
       "text": [
        "org.refptr.iscala.display.PlainDisplay$$anon$1@1e74f642"
       ]
      }
     ],
     "prompt_number": 18
    },
    {
     "cell_type": "code",
     "collapsed": false,
     "input": [
      "Nil"
     ],
     "language": "python",
     "metadata": {},
     "outputs": [
      {
       "output_type": "stream",
       "stream": "stdout",
       "text": []
      },
      {
       "output_type": "stream",
       "stream": "stdout",
       "text": []
      },
      {
       "metadata": {},
       "output_type": "pyout",
       "prompt_number": 19,
       "text": [
        "Nil"
       ]
      }
     ],
     "prompt_number": 19
    },
    {
     "cell_type": "code",
     "collapsed": false,
     "input": [
      "implicit val PlainNil = org.refptr.iscala.display.PlainDisplay[Nil.type](_ => \"NIL\")"
     ],
     "language": "python",
     "metadata": {},
     "outputs": [
      {
       "output_type": "stream",
       "stream": "stdout",
       "text": []
      },
      {
       "output_type": "stream",
       "stream": "stdout",
       "text": []
      },
      {
       "metadata": {},
       "output_type": "pyout",
       "prompt_number": 20,
       "text": [
        "org.refptr.iscala.display.PlainDisplay$$anon$1@473f3475"
       ]
      }
     ],
     "prompt_number": 20
    },
    {
     "cell_type": "code",
     "collapsed": false,
     "input": [
      "Nil"
     ],
     "language": "python",
     "metadata": {},
     "outputs": [
      {
       "output_type": "stream",
       "stream": "stdout",
       "text": []
      },
      {
       "output_type": "stream",
       "stream": "stdout",
       "text": []
      },
      {
       "metadata": {},
       "output_type": "pyout",
       "prompt_number": 21,
       "text": [
        "NIL"
       ]
      }
     ],
     "prompt_number": 21
    },
    {
     "cell_type": "code",
     "collapsed": false,
     "input": [
      "import io.continuum.bokeh._"
     ],
     "language": "python",
     "metadata": {},
     "outputs": [
      {
       "output_type": "stream",
       "stream": "stdout",
       "text": []
      },
      {
       "output_type": "stream",
       "stream": "stdout",
       "text": []
      }
     ],
     "prompt_number": 22
    },
    {
     "cell_type": "code",
     "collapsed": false,
     "input": [
      "val resources = Resources.CDN"
     ],
     "language": "python",
     "metadata": {},
     "outputs": [
      {
       "output_type": "stream",
       "stream": "stdout",
       "text": []
      },
      {
       "output_type": "stream",
       "stream": "stdout",
       "text": []
      },
      {
       "metadata": {},
       "output_type": "pyout",
       "prompt_number": 23,
       "text": [
        "CDN"
       ]
      }
     ],
     "prompt_number": 23
    },
    {
     "cell_type": "code",
     "collapsed": false,
     "input": [
      "implicit val HTMLPlot = org.refptr.iscala.display.HTMLDisplay[Plot, xml.NodeSeq] { plot =>\n",
      "    val context = new PlotContext().children(plot :: Nil)\n",
      "    val writer = new HTMLFileWriter(context :: Nil, Some(resources))\n",
      "    writer.renderPlots(writer.specs())\n",
      "}"
     ],
     "language": "python",
     "metadata": {},
     "outputs": [
      {
       "output_type": "stream",
       "stream": "stdout",
       "text": []
      },
      {
       "output_type": "stream",
       "stream": "stdout",
       "text": []
      },
      {
       "metadata": {},
       "output_type": "pyout",
       "prompt_number": 24,
       "text": [
        "org.refptr.iscala.display.HTMLDisplay$$anon$3@51c96134"
       ]
      }
     ],
     "prompt_number": 24
    },
    {
     "cell_type": "code",
     "collapsed": false,
     "input": [
      "(resources.styles ++ resources.scripts): xml.NodeSeq"
     ],
     "language": "python",
     "metadata": {},
     "outputs": [
      {
       "output_type": "stream",
       "stream": "stdout",
       "text": []
      },
      {
       "output_type": "stream",
       "stream": "stdout",
       "text": []
      },
      {
       "html": [
        "<link rel=\"stylesheet\" href=\"http://cdn.pydata.org/bokeh-0.6.1.min.css\"></link><script type=\"text/javascript\" src=\"http://cdn.pydata.org/bokeh-0.6.1.min.js\"></script>"
       ],
       "metadata": {},
       "output_type": "pyout",
       "prompt_number": 25,
       "text": [
        "NodeSeq(<link rel=\"stylesheet\" href=\"http://cdn.pydata.org/bokeh-0.6.1.min.css\"></link>, <script type=\"text/javascript\" src=\"http://cdn.pydata.org/bokeh-0.6.1.min.js\"></script>)"
       ]
      }
     ],
     "prompt_number": 25
    },
    {
     "cell_type": "code",
     "collapsed": false,
     "input": [
      "import Tools._\n",
      "import math.{Pi=>pi,sin}\n",
      "\n",
      "val x = -2*pi to 2*pi by 0.1\n",
      "val y = x.map(sin)\n",
      "\n",
      "val source = new ColumnDataSource().addColumn('x, x).addColumn('y, y)\n",
      "\n",
      "val xdr = new DataRange1d().sources(source.columns('x) :: Nil)\n",
      "val ydr = new DataRange1d().sources(source.columns('y) :: Nil)\n",
      "\n",
      "val plot = new Plot().x_range(xdr).y_range(ydr).tools(Pan|WheelZoom)\n",
      "\n",
      "val xaxis = new LinearAxis().plot(plot).location(Location.Below)\n",
      "val yaxis = new LinearAxis().plot(plot).location(Location.Left)\n",
      "plot.below <<= (xaxis :: _)\n",
      "plot.left <<= (yaxis :: _)\n",
      "\n",
      "val circle = new Circle().x('x).y('y).size(5).fill_color(Color.Red).line_color(Color.Black)\n",
      "val glyph = new Glyph().data_source(source).glyph(circle)\n",
      "\n",
      "plot.renderers := List(xaxis, yaxis, glyph)"
     ],
     "language": "python",
     "metadata": {},
     "outputs": [
      {
       "output_type": "stream",
       "stream": "stdout",
       "text": []
      },
      {
       "output_type": "stream",
       "stream": "stdout",
       "text": []
      }
     ],
     "prompt_number": 26
    },
    {
     "cell_type": "code",
     "collapsed": false,
     "input": [
      "plot"
     ],
     "language": "python",
     "metadata": {},
     "outputs": [
      {
       "output_type": "stream",
       "stream": "stdout",
       "text": []
      },
      {
       "output_type": "stream",
       "stream": "stdout",
       "text": []
      },
      {
       "html": [
        "<div>\n",
        "                <div class=\"plotdiv\" id=\"11bed9ff-10d1-48d3-af3e-47ea7d4e8d02\">Plots</div>\n",
        "                <script type=\"text/javascript\">\n",
        "            // <![CDATA[\n",
        "            (function() {\n",
        "Bokeh.set_log_level(\"info\")\n",
        "var models = [{\"id\":\"c5760bd7-05c9-48bf-9bbc-74322b87b61c\",\"type\":\"BasicTickFormatter\",\"attributes\":{\"power_limit_low\":-3,\"power_limit_high\":5,\"use_scientific\":true,\"id\":\"c5760bd7-05c9-48bf-9bbc-74322b87b61c\"}},{\"id\":\"457308c2-2a85-4235-89e6-5dbac3843222\",\"type\":\"BasicTicker\",\"attributes\":{\"num_minor_ticks\":5,\"id\":\"457308c2-2a85-4235-89e6-5dbac3843222\"}},{\"id\":\"032220c5-2271-42e9-b26d-b09b7daccc21\",\"type\":\"LinearAxis\",\"attributes\":{\"formatter\":{\"id\":\"c5760bd7-05c9-48bf-9bbc-74322b87b61c\",\"type\":\"BasicTickFormatter\"},\"ticker\":{\"id\":\"457308c2-2a85-4235-89e6-5dbac3843222\",\"type\":\"BasicTicker\"},\"location\":\"below\",\"y_range_name\":\"default\",\"x_range_name\":\"default\",\"plot\":{\"id\":\"75e25bdc-a6b6-41a4-ac82-0c5e59bb834e\",\"type\":\"Plot\"},\"id\":\"032220c5-2271-42e9-b26d-b09b7daccc21\"}},{\"id\":\"c3fe8c86-73fb-4f66-9684-8acc9c879292\",\"type\":\"BasicTickFormatter\",\"attributes\":{\"power_limit_low\":-3,\"power_limit_high\":5,\"use_scientific\":true,\"id\":\"c3fe8c86-73fb-4f66-9684-8acc9c879292\"}},{\"id\":\"22775282-1054-4d52-9659-5ed35b6abd0c\",\"type\":\"BasicTicker\",\"attributes\":{\"num_minor_ticks\":5,\"id\":\"22775282-1054-4d52-9659-5ed35b6abd0c\"}},{\"id\":\"22422365-a9c7-4a92-8d67-2334d2117407\",\"type\":\"LinearAxis\",\"attributes\":{\"formatter\":{\"id\":\"c3fe8c86-73fb-4f66-9684-8acc9c879292\",\"type\":\"BasicTickFormatter\"},\"ticker\":{\"id\":\"22775282-1054-4d52-9659-5ed35b6abd0c\",\"type\":\"BasicTicker\"},\"location\":\"left\",\"y_range_name\":\"default\",\"x_range_name\":\"default\",\"plot\":{\"id\":\"75e25bdc-a6b6-41a4-ac82-0c5e59bb834e\",\"type\":\"Plot\"},\"id\":\"22422365-a9c7-4a92-8d67-2334d2117407\"}},{\"id\":\"2e4a05c7-57fd-40cc-a98d-96c36cf6070b\",\"type\":\"PanTool\",\"attributes\":{\"dimensions\":[\"width\",\"height\"],\"plot\":{\"id\":\"75e25bdc-a6b6-41a4-ac82-0c5e59bb834e\",\"type\":\"Plot\"},\"id\":\"2e4a05c7-57fd-40cc-a98d-96c36cf6070b\"}},{\"id\":\"c7eb1001-1a2f-4f89-bf78-4516cc953c74\",\"type\":\"WheelZoomTool\",\"attributes\":{\"dimensions\":[\"width\",\"height\"],\"plot\":{\"id\":\"75e25bdc-a6b6-41a4-ac82-0c5e59bb834e\",\"type\":\"Plot\"},\"id\":\"c7eb1001-1a2f-4f89-bf78-4516cc953c74\"}},{\"id\":\"d58d7557-775d-473c-9a39-607a799a112c\",\"type\":\"ColumnDataSource\",\"attributes\":{\"data\":{\"x\":[-6.283185307179586,-6.183185307179587,-6.083185307179587,-5.983185307179587,-5.883185307179588,-5.783185307179588,-5.683185307179588,-5.583185307179589,-5.483185307179589,-5.383185307179589,-5.28318530717959,-5.18318530717959,-5.0831853071795905,-4.983185307179591,-4.883185307179591,-4.783185307179592,-4.683185307179592,-4.583185307179592,-4.483185307179593,-4.383185307179593,-4.283185307179593,-4.183185307179594,-4.083185307179594,-3.983185307179594,-3.883185307179594,-3.783185307179594,-3.6831853071795937,-3.5831853071795936,-3.4831853071795935,-3.3831853071795934,-3.2831853071795933,-3.1831853071795932,-3.083185307179593,-2.983185307179593,-2.883185307179593,-2.783185307179593,-2.683185307179593,-2.5831853071795927,-2.4831853071795926,-2.3831853071795925,-2.2831853071795924,-2.1831853071795924,-2.0831853071795923,-1.9831853071795922,-1.883185307179592,-1.783185307179592,-1.683185307179592,-1.5831853071795918,-1.4831853071795917,-1.3831853071795916,-1.2831853071795916,-1.1831853071795915,-1.0831853071795914,-0.9831853071795914,-0.8831853071795914,-0.7831853071795915,-0.6831853071795915,-0.5831853071795915,-0.4831853071795915,-0.38318530717959154,-0.28318530717959156,-0.18318530717959156,-0.08318530717959155,0.016814692820408456,0.11681469282040846,0.21681469282040847,0.31681469282040847,0.4168146928204085,0.5168146928204085,0.6168146928204085,0.7168146928204084,0.8168146928204084,0.9168146928204084,1.0168146928204085,1.1168146928204086,1.2168146928204087,1.3168146928204087,1.4168146928204088,1.516814692820409,1.616814692820409,1.716814692820409,1.8168146928204092,1.9168146928204093,2.016814692820409,2.1168146928204092,2.2168146928204093,2.3168146928204094,2.4168146928204095,2.5168146928204096,2.6168146928204097,2.7168146928204098,2.81681469282041,2.91681469282041,3.01681469282041,3.11681469282041,3.21681469282041,3.3168146928204103,3.4168146928204104,3.5168146928204105,3.6168146928204106,3.7168146928204107,3.8168146928204107,3.916814692820411,4.016814692820411,4.116814692820411,4.21681469282041,4.31681469282041,4.4168146928204095,4.516814692820409,4.616814692820409,4.716814692820408,4.816814692820408,4.916814692820408,5.016814692820407,5.116814692820407,5.216814692820407,5.316814692820406,5.416814692820406,5.516814692820406,5.616814692820405,5.716814692820405,5.8168146928204045,5.916814692820404,6.016814692820404,6.1168146928204035,6.216814692820403],\"y\":[2.4492935982947064E-16,0.09983341664682804,0.19866933079506077,0.29552020666133877,0.3894183423086494,0.4794255386042017,0.5646424733950338,0.6442176872376894,0.7173560908995209,0.7833269096274815,0.8414709848078947,0.8912073600614336,0.9320390859672248,0.9635581854171917,0.9854497299884594,0.9974949866040541,0.9995736030415053,0.9916648104524693,0.9738476308781966,0.9463000876874166,0.9092974268256846,0.8632093666488774,0.8084964038195946,0.7457052121767251,0.6754631805511564,0.5984721441039623,0.5155013718214704,0.4273798802338364,0.33498815015591155,0.2392493292139891,0.141120008059874,0.04158066243329735,-0.05837414342757324,-0.15774569414324188,-0.255541102026825,-0.35078322768961384,-0.4425204432948467,-0.529836140908488,-0.6118578909427143,-0.6877661591839694,-0.7568024953079244,-0.8182771110644071,-0.8715757724135852,-0.9161659367494527,-0.9516020738895142,-0.9775301176650959,-0.9936910036334639,-0.9999232575641008,-0.9961646088358411,-0.9824526126243335,-0.9589242746631399,-0.9258146823277342,-0.8834546557201556,-0.8322674422239039,-0.7727644875559905,-0.7055403255703955,-0.6312666378723252,-0.5506855425976419,-0.4646021794137617,-0.37387666483024107,-0.27941549819893075,-0.18216250427210054,-0.08308940281750163,0.016813900484344824,0.11654920485048827,0.21511998808781058,0.31154136351337336,0.4048499206165936,0.49411335113860394,0.5784397643881958,0.6569865987187853,0.7289690401258726,0.7936678638491499,0.8504366206285618,0.8987080958116246,0.9379999767747372,0.9679196720314852,0.9881682338769997,0.9985433453746048,0.9989413418397722,0.9893582466233825,0.9698898108450873,0.9407305566797743,0.9021718337562955,0.8545989080882829,0.7984871126234928,0.7343970978741159,0.6629692300821858,0.5849171928917655,0.5010208564578883,0.41211848524176,0.31909836234935524,0.22288991410025044,0.12445442350706587,0.024775425453361515,-0.07515112046180601,-0.17432678122297682,-0.2717606264109401,-0.36647912925192494,-0.45753589377531845,-0.5440211108893674,-0.6250706488928802,-0.6998746875935409,-0.7676858097635804,-0.8278264690856518,-0.8796957599716685,-0.9227754216128053,-0.9566350162701869,-0.9809362300664906,-0.995436253306377,-0.9999902065507035,-0.9945525882039897,-0.9791777291513184,-0.9540192499020911,-0.9193285256646784,-0.8754521746884318,-0.8228285949687127,-0.7619835839190378,-0.6935250847771286,-0.61813711223704,-0.5365729180004423,-0.4496474645346092,-0.35822928223683675,-0.263231791365811,-0.16560417544831968,-0.06632189735121108]},\"id\":\"d58d7557-775d-473c-9a39-607a799a112c\"}},{\"id\":\"5ece082d-70f6-4525-a044-578586217838\",\"type\":\"Glyph\",\"attributes\":{\"y_range_name\":\"default\",\"x_range_name\":\"default\",\"glyphspec\":{\"size\":{\"value\":5.0,\"units\":\"screen\"},\"y\":{\"field\":\"y\",\"units\":\"data\"},\"x\":{\"field\":\"x\",\"units\":\"data\"},\"line_dash_offset\":0,\"line_alpha\":1.0,\"line_width\":1.0,\"line_color\":{\"value\":\"black\"},\"fill_alpha\":1.0,\"fill_color\":{\"value\":\"red\"},\"type\":\"circle\"},\"data_source\":{\"id\":\"d58d7557-775d-473c-9a39-607a799a112c\",\"type\":\"ColumnDataSource\"},\"id\":\"5ece082d-70f6-4525-a044-578586217838\"}},{\"id\":\"1309dab2-2cd6-426c-9cf6-868f0355c976\",\"type\":\"DataRange1d\",\"attributes\":{\"rangepadding\":0.1,\"sources\":[{\"columns\":[\"y\"],\"source\":{\"id\":\"d58d7557-775d-473c-9a39-607a799a112c\",\"type\":\"ColumnDataSource\"},\"type\":\"ColumnsRef\"}],\"id\":\"1309dab2-2cd6-426c-9cf6-868f0355c976\"}},{\"id\":\"0e77f8b0-9204-4e09-ba88-8e83cf3c0996\",\"type\":\"DataRange1d\",\"attributes\":{\"rangepadding\":0.1,\"sources\":[{\"columns\":[\"x\"],\"source\":{\"id\":\"d58d7557-775d-473c-9a39-607a799a112c\",\"type\":\"ColumnDataSource\"},\"type\":\"ColumnsRef\"}],\"id\":\"0e77f8b0-9204-4e09-ba88-8e83cf3c0996\"}},{\"id\":\"75e25bdc-a6b6-41a4-ac82-0c5e59bb834e\",\"type\":\"Plot\",\"attributes\":{\"v_symmetry\":false,\"h_symmetry\":true,\"border_fill\":\"white\",\"background_fill\":\"white\",\"plot_height\":600,\"plot_width\":600,\"toolbar_location\":\"above\",\"below\":[{\"id\":\"032220c5-2271-42e9-b26d-b09b7daccc21\",\"type\":\"LinearAxis\"}],\"left\":[{\"id\":\"22422365-a9c7-4a92-8d67-2334d2117407\",\"type\":\"LinearAxis\"}],\"tools\":[{\"id\":\"2e4a05c7-57fd-40cc-a98d-96c36cf6070b\",\"type\":\"PanTool\"},{\"id\":\"c7eb1001-1a2f-4f89-bf78-4516cc953c74\",\"type\":\"WheelZoomTool\"}],\"renderers\":[{\"id\":\"032220c5-2271-42e9-b26d-b09b7daccc21\",\"type\":\"LinearAxis\"},{\"id\":\"22422365-a9c7-4a92-8d67-2334d2117407\",\"type\":\"LinearAxis\"},{\"id\":\"5ece082d-70f6-4525-a044-578586217838\",\"type\":\"Glyph\"}],\"y_mapper_type\":\"auto\",\"x_mapper_type\":\"auto\",\"y_range\":{\"id\":\"1309dab2-2cd6-426c-9cf6-868f0355c976\",\"type\":\"DataRange1d\"},\"x_range\":{\"id\":\"0e77f8b0-9204-4e09-ba88-8e83cf3c0996\",\"type\":\"DataRange1d\"},\"title\":\"\",\"disabled\":false,\"id\":\"75e25bdc-a6b6-41a4-ac82-0c5e59bb834e\"}},{\"id\":\"1e4e010c-eb73-4f48-b0ab-97113f3d01d5\",\"type\":\"PlotContext\",\"attributes\":{\"children\":[{\"id\":\"75e25bdc-a6b6-41a4-ac82-0c5e59bb834e\",\"type\":\"Plot\"}],\"id\":\"1e4e010c-eb73-4f48-b0ab-97113f3d01d5\"}}];\n",
        "var modelid = \"1e4e010c-eb73-4f48-b0ab-97113f3d01d5\";\n",
        "var modeltype = \"PlotContext\";\n",
        "var elementid = \"#11bed9ff-10d1-48d3-af3e-47ea7d4e8d02\";\n",
        "Bokeh.logger.info(\"Realizing plot:\")\n",
        "Bokeh.logger.info(\" - modeltype: \" + modeltype);\n",
        "Bokeh.logger.info(\" - modelid:   \" + modelid);\n",
        "Bokeh.logger.info(\" - elementid: \" + elementid);\n",
        "Bokeh.load_models(models);\n",
        "var model = Bokeh.Collections(modeltype).get(modelid);\n",
        "var view = new model.default_view({model: model, el: elementid});\n",
        "})();\n",
        "            // ]]>\n",
        "            </script>\n",
        "            </div>"
       ],
       "metadata": {},
       "output_type": "pyout",
       "prompt_number": 27,
       "text": [
        "io.continuum.bokeh.Plot@1d493bc3"
       ]
      }
     ],
     "prompt_number": 27
    },
    {
     "cell_type": "code",
     "collapsed": false,
     "input": [
      "import org.jfree.data.xy.{XYSeries,XYSeriesCollection}\n",
      "import org.jfree.chart.ChartFactory\n",
      "import math.{Pi=>pi,sin}\n",
      "\n",
      "val x = -2*pi to 2*pi by 0.1\n",
      "val y = x.map(sin)\n",
      "\n",
      "val series = new XYSeries(\"sin(x)\")\n",
      "(x zip y).foreach { case (x, y) => series.add(x, y) }\n",
      "\n",
      "val dataset = new XYSeriesCollection()\n",
      "dataset.addSeries(series)\n",
      "\n",
      "val chart = ChartFactory.createXYLineChart(\"y = sin(x)\", \"x\", \"y\", dataset)\n",
      "chart.createBufferedImage(500, 300)"
     ],
     "language": "python",
     "metadata": {},
     "outputs": [
      {
       "output_type": "stream",
       "stream": "stdout",
       "text": []
      },
      {
       "output_type": "stream",
       "stream": "stdout",
       "text": []
      },
      {
       "metadata": {},
       "output_type": "pyout",
       "png": "[encoded data removed]",
       "prompt_number": 28,
       "text": [
        "BufferedImage@7acafe59: type = 2 DirectColorModel: rmask=ff0000 gmask=ff00 bmask=ff amask=ff000000 IntegerInterleavedRaster: width = 500 height = 300 #Bands = 4 xOff = 0 yOff = 0 dataOffset[0] 0"
       ]
      }
     ],
     "prompt_number": 28
    },
    {
     "cell_type": "code",
     "collapsed": false,
     "input": [],
     "language": "python",
     "metadata": {},
     "outputs": []
    }
   ],
   "metadata": {}
  }
 ]
}